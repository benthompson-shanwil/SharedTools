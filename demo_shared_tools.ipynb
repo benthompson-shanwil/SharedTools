{
 "cells": [
  {
   "cell_type": "markdown",
   "metadata": {},
   "source": [
    "# Shared Tools Demo Notebook\n",
    "\n",
    "The purpose of this notebook is to demonstrate a few of the functions in the get_xls_colors.py file.  "
   ]
  },
  {
   "cell_type": "markdown",
   "metadata": {},
   "source": [
    "## Import XLS Color Functions from .py file and run them:"
   ]
  },
  {
   "cell_type": "code",
   "execution_count": null,
   "metadata": {},
   "outputs": [],
   "source": [
    "# Import necessary modules and functions\n",
    "import openpyxl\n",
    "from get_xls_colors import get_cell_colors\n",
    "from get_xls_colors import get_value_color_map\n",
    "from get_xls_colors import plot_colored_boxes\n",
    "\n",
    "# Load the Excel file (make sure \"Table 1 ESUs.xlsx\" is in the SharedTools folder)\n",
    "workbook = openpyxl.load_workbook(\"Table 1 ESUs.xlsx\")\n",
    "\n",
    "# Define the sheet name and the cell range for column D (i.e. D4:D29)\n",
    "sheet_name = \"Complex Table\"\n",
    "min_row = 4\n",
    "min_col = 4  # Column D is the 4th column\n",
    "max_row = 29\n",
    "max_col = 4  # Single column range (D)\n",
    "\n",
    "# Retrieve cell colors using the get_cell_colors function\n",
    "colors, color_dict = get_cell_colors(workbook, sheet_name, min_row, min_col, max_row, max_col)\n",
    "\n",
    "# Display the results\n",
    "print(\"List of Colors:\")\n",
    "print(colors)\n",
    "print(\"\\nDictionary Mapping (Column, Row) to Color:\")\n",
    "print(color_dict)\n",
    "\n",
    "# Retrieve value-color mapping using the get_value_color_map function\n",
    "value_color_map = get_value_color_map(workbook, sheet_name, min_row, min_col, max_row, max_col)\n",
    "\n",
    "# Display the results\n",
    "print(\"\\nValue-Color Mapping:\")\n",
    "print(value_color_map)\n"
   ]
  },
  {
   "cell_type": "markdown",
   "metadata": {},
   "source": [
    "## Visualize the Color Dictionary"
   ]
  },
  {
   "cell_type": "code",
   "execution_count": null,
   "metadata": {},
   "outputs": [],
   "source": [
    "plot_colored_boxes(value_color_map)"
   ]
  }
 ],
 "metadata": {
  "kernelspec": {
   "display_name": "shared_tools_env",
   "language": "python",
   "name": "python3"
  },
  "language_info": {
   "codemirror_mode": {
    "name": "ipython",
    "version": 3
   },
   "file_extension": ".py",
   "mimetype": "text/x-python",
   "name": "python",
   "nbconvert_exporter": "python",
   "pygments_lexer": "ipython3",
   "version": "3.12.7"
  }
 },
 "nbformat": 4,
 "nbformat_minor": 2
}
