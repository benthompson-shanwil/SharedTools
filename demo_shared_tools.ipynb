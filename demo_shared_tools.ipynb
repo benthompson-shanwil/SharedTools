{
 "cells": [
  {
   "cell_type": "code",
   "execution_count": 1,
   "metadata": {},
   "outputs": [
    {
     "name": "stdout",
     "output_type": "stream",
     "text": [
      "List of Colors:\n",
      "['#595959', '#808080', '#A6A6A6', '#BFBFBF', '#D9D9D9', '#F2F2F2', '#8A3400', '#CE4D00', '#FFA671', '#FFC5A2', '#666633', '#808000', '#CCCC00', '#FFFF00', '#FFFF99', '#FFFFCC', '#7E4B06', '#BB6F09', '#DF840B', '#F49D28', '#F7BA69', '#F9CC91', '#478A7A', '#6BCC44', '#3182BD', '#9ECAE1']\n",
      "\n",
      "Dictionary Mapping (Column, Row) to Color:\n",
      "{('D', 4): '#595959', ('D', 5): '#808080', ('D', 6): '#A6A6A6', ('D', 7): '#BFBFBF', ('D', 8): '#D9D9D9', ('D', 9): '#F2F2F2', ('D', 10): '#8A3400', ('D', 11): '#CE4D00', ('D', 12): '#FFA671', ('D', 13): '#FFC5A2', ('D', 14): '#666633', ('D', 15): '#808000', ('D', 16): '#CCCC00', ('D', 17): '#FFFF00', ('D', 18): '#FFFF99', ('D', 19): '#FFFFCC', ('D', 20): '#7E4B06', ('D', 21): '#BB6F09', ('D', 22): '#DF840B', ('D', 23): '#F49D28', ('D', 24): '#F7BA69', ('D', 25): '#F9CC91', ('D', 26): '#478A7A', ('D', 27): '#6BCC44', ('D', 28): '#3182BD', ('D', 29): '#9ECAE1'}\n",
      "\n",
      "Value-Color Mapping:\n",
      "{'1A': '#595959', '1B': '#808080', '1C': '#A6A6A6', '1D': '#BFBFBF', '1E': '#D9D9D9', '1F': '#F2F2F2', '2A': '#8A3400', '2B': '#CE4D00', '2C': '#FFA671', '2D': '#FFC5A2', '3A': '#666633', '3B': '#808000', '3C': '#CCCC00', '3D': '#FFFF00', '3E': '#FFFF99', '3F': '#FFFFCC', '4A': '#7E4B06', '4B': '#BB6F09', '4C': '#DF840B', '4D': '#F49D28', '4E': '#F7BA69', '4F': '#F9CC91', '5A': '#478A7A', '5B': '#6BCC44', '6A': '#3182BD', '6B': '#9ECAE1'}\n"
     ]
    }
   ],
   "source": [
    "# Import necessary modules and functions\n",
    "import openpyxl\n",
    "from get_xls_colors import get_cell_colors\n",
    "from get_xls_colors import get_value_color_map\n",
    "\n",
    "# Load the Excel file (make sure \"Table 1 ESUs.xlsx\" is in the SharedTools folder)\n",
    "workbook = openpyxl.load_workbook(\"Table 1 ESUs.xlsx\")\n",
    "\n",
    "# Define the sheet name and the cell range for column D (i.e. D4:D29)\n",
    "sheet_name = \"Complex Table\"\n",
    "min_row = 4\n",
    "min_col = 4  # Column D is the 4th column\n",
    "max_row = 29\n",
    "max_col = 4  # Single column range (D)\n",
    "\n",
    "# Retrieve cell colors using the get_cell_colors function\n",
    "colors, color_dict = get_cell_colors(workbook, sheet_name, min_row, min_col, max_row, max_col)\n",
    "\n",
    "# Display the results\n",
    "print(\"List of Colors:\")\n",
    "print(colors)\n",
    "print(\"\\nDictionary Mapping (Column, Row) to Color:\")\n",
    "print(color_dict)\n",
    "\n",
    "# Retrieve value-color mapping using the get_value_color_map function\n",
    "value_color_map = get_value_color_map(workbook, sheet_name, min_row, min_col, max_row, max_col)\n",
    "\n",
    "# Display the results\n",
    "print(\"\\nValue-Color Mapping:\")\n",
    "print(value_color_map)\n"
   ]
  }
 ],
 "metadata": {
  "kernelspec": {
   "display_name": "shared_tools_env",
   "language": "python",
   "name": "python3"
  },
  "language_info": {
   "codemirror_mode": {
    "name": "ipython",
    "version": 3
   },
   "file_extension": ".py",
   "mimetype": "text/x-python",
   "name": "python",
   "nbconvert_exporter": "python",
   "pygments_lexer": "ipython3",
   "version": "3.12.7"
  }
 },
 "nbformat": 4,
 "nbformat_minor": 2
}
